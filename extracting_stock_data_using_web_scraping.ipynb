{
 "cells": [
  {
   "cell_type": "markdown",
   "id": "b6784345-25bf-47f0-8553-3d931ff55602",
   "metadata": {
    "tags": []
   },
   "source": [
    "# Extracting Stock Data Using Web Scraping"
   ]
  },
  {
   "cell_type": "markdown",
   "id": "fbcbb6f0-22f2-43fa-82c2-9c63550bc232",
   "metadata": {},
   "source": [
    "Not all data is available via API so we will practice web-scraping to obtain some financial data. </br>\n",
    "In order to do this, we will use BeutifulSoup"
   ]
  },
  {
   "cell_type": "code",
   "execution_count": 23,
   "id": "472eff4b-cd71-4297-b661-811644fb81d5",
   "metadata": {
    "tags": []
   },
   "outputs": [],
   "source": [
    "import pandas as pd\n",
    "import requests\n",
    "from bs4 import BeautifulSoup\n",
    "import html5lib"
   ]
  },
  {
   "cell_type": "markdown",
   "id": "75d2b190-c1a2-43df-9709-cfb0af605003",
   "metadata": {
    "tags": []
   },
   "source": [
    "We will specifically be extracting stock data from Netflix </br>\n",
    "This data will need to include: </br>\n",
    "- Date\n",
    "- Open\n",
    "- High\n",
    "- Low\n",
    "- Close\n",
    "- Volume </br>\n",
    "\n",
    "These are the steps we will follow: </br>\n",
    "1. Send an HTTP request to the webpage using the requests library.\n",
    "2. Parse the HTML contonent of the webpage using BeautifulSoup.\n",
    "3. Identify the HTML tags that contain the data we want to extract.\n",
    "4. Use BeautifulSoup methods to extract the data from the HTML tags.\n",
    "5. Print the extracted data.\n"
   ]
  },
  {
   "cell_type": "markdown",
   "id": "54e1bd27-3748-492f-bfff-7669a2417d79",
   "metadata": {
    "tags": []
   },
   "source": [
    "### 1. Let's send a request to the webpage"
   ]
  },
  {
   "cell_type": "code",
   "execution_count": 24,
   "id": "8db2cb18-92cd-45bd-88f2-f1bee80c5301",
   "metadata": {
    "tags": []
   },
   "outputs": [],
   "source": [
    "url = \"https://cf-courses-data.s3.us.cloud-object-storage.appdomain.cloud/IBMDeveloperSkillsNetwork-PY0220EN-SkillsNetwork/labs/project/netflix_data_webpage.html\""
   ]
  },
  {
   "cell_type": "code",
   "execution_count": 25,
   "id": "d36062db-d56b-4b5b-a9e1-4e6a15702ade",
   "metadata": {
    "tags": []
   },
   "outputs": [],
   "source": [
    "data = requests.get(url).text\n",
    "# will print out entire HTML DOM\n",
    "# print(data) "
   ]
  },
  {
   "cell_type": "markdown",
   "id": "94f73e50-f6af-452a-9fdd-463226483a6e",
   "metadata": {
    "tags": []
   },
   "source": [
    "### 2. Now let's parse our data"
   ]
  },
  {
   "cell_type": "code",
   "execution_count": 26,
   "id": "52c7f353-ac34-4a99-8219-7607b130afbf",
   "metadata": {
    "tags": []
   },
   "outputs": [],
   "source": [
    "soup = BeautifulSoup(data,'html5lib')"
   ]
  },
  {
   "cell_type": "markdown",
   "id": "7a019cc4-c2ce-4ebf-adbf-3c5864812c02",
   "metadata": {},
   "source": [
    "### 3. Time to identify our HTML tags"
   ]
  },
  {
   "cell_type": "code",
   "execution_count": 27,
   "id": "1d562eba-ee0d-4204-a939-66f421d0b312",
   "metadata": {
    "tags": []
   },
   "outputs": [],
   "source": [
    "# creating our DataFrame\n",
    "netflix_data = pd.DataFrame(columns=['Date','Open','High','Low','Close','Volume'])"
   ]
  },
  {
   "cell_type": "markdown",
   "id": "0fb2962c-9453-4728-b6ee-45fcbd162d0b",
   "metadata": {
    "tags": []
   },
   "source": [
    "Since we are aiming for a specific table in the webpage we will target the following tags\n",
    "- <code>table</code>: starts and ends our table\n",
    "- <code>tr</code></code></code></code>: defines each row\n",
    "- <code>td</code></code></code>: defines a table cell\n",
    "- <code>th</code></code>: defines a header cell\n",
    "- <code>tbody</code>: defines the maine content of the table, containing one or more rows"
   ]
  },
  {
   "cell_type": "markdown",
   "id": "d0c81a37-9252-49ee-aa38-f362a44e2eb0",
   "metadata": {},
   "source": [
    "### 4. Use Beautiful soup to extract data"
   ]
  },
  {
   "cell_type": "code",
   "execution_count": 39,
   "id": "7add66dc-92d8-4145-a7e4-e3cd233dfac9",
   "metadata": {
    "tags": []
   },
   "outputs": [],
   "source": [
    "# First we isolate the body which contains the table\n",
    "for row in soup.find(\"tbody\").find_all('tr'):\n",
    "    # Then we loop through each row and find all the column values\n",
    "    col = row.find_all(\"td\")\n",
    "    date = col[0].text\n",
    "    Open = col[1].text\n",
    "    high = col[2].text\n",
    "    low = col[3].text\n",
    "    close = col[4].text\n",
    "    adj_close = col[5].text\n",
    "    volume = col[6].text \n",
    "    tokens = pd.Series({\"Date\":date, \"Open\":Open, \"High\":high, \"Low\":low, \"Close\":close, \"Adj Close\":adj_close, \"Volume\":volume})\n",
    "    # Finally we append the data of each row to the table\n",
    "    netflix_data =pd.concat([netflix_data,tokens], axis=1)   "
   ]
  },
  {
   "cell_type": "markdown",
   "id": "3ede546d-89ef-47e1-8b89-b65e68a355dc",
   "metadata": {
    "tags": []
   },
   "source": [
    "### 5. Lastly let's print our data"
   ]
  },
  {
   "cell_type": "code",
   "execution_count": 47,
   "id": "6d247e25-bd17-4771-8ee8-126a5dcbc92c",
   "metadata": {
    "tags": []
   },
   "outputs": [],
   "source": [
    "netflix_data = netflix_data.iloc[:,0:7]\n",
    "# trim the extra columns"
   ]
  },
  {
   "cell_type": "code",
   "execution_count": 46,
   "id": "282340ea-7cb1-4aee-a05c-b33895e10e6f",
   "metadata": {
    "tags": []
   },
   "outputs": [
    {
     "data": {
      "text/html": [
       "<div>\n",
       "<style scoped>\n",
       "    .dataframe tbody tr th:only-of-type {\n",
       "        vertical-align: middle;\n",
       "    }\n",
       "\n",
       "    .dataframe tbody tr th {\n",
       "        vertical-align: top;\n",
       "    }\n",
       "\n",
       "    .dataframe thead th {\n",
       "        text-align: right;\n",
       "    }\n",
       "</style>\n",
       "<table border=\"1\" class=\"dataframe\">\n",
       "  <thead>\n",
       "    <tr style=\"text-align: right;\">\n",
       "      <th></th>\n",
       "      <th>Date</th>\n",
       "      <th>Open</th>\n",
       "      <th>High</th>\n",
       "      <th>Low</th>\n",
       "      <th>Close</th>\n",
       "      <th>Volume</th>\n",
       "      <th>Adj Close</th>\n",
       "    </tr>\n",
       "  </thead>\n",
       "  <tbody>\n",
       "    <tr>\n",
       "      <th>0</th>\n",
       "      <td>Jun 01, 2021</td>\n",
       "      <td>504.01</td>\n",
       "      <td>536.13</td>\n",
       "      <td>482.14</td>\n",
       "      <td>528.21</td>\n",
       "      <td>78,560,600</td>\n",
       "      <td>528.21</td>\n",
       "    </tr>\n",
       "    <tr>\n",
       "      <th>1</th>\n",
       "      <td>May 01, 2021</td>\n",
       "      <td>512.65</td>\n",
       "      <td>518.95</td>\n",
       "      <td>478.54</td>\n",
       "      <td>502.81</td>\n",
       "      <td>66,927,600</td>\n",
       "      <td>502.81</td>\n",
       "    </tr>\n",
       "    <tr>\n",
       "      <th>2</th>\n",
       "      <td>Apr 01, 2021</td>\n",
       "      <td>529.93</td>\n",
       "      <td>563.56</td>\n",
       "      <td>499.00</td>\n",
       "      <td>513.47</td>\n",
       "      <td>111,573,300</td>\n",
       "      <td>513.47</td>\n",
       "    </tr>\n",
       "    <tr>\n",
       "      <th>3</th>\n",
       "      <td>Mar 01, 2021</td>\n",
       "      <td>545.57</td>\n",
       "      <td>556.99</td>\n",
       "      <td>492.85</td>\n",
       "      <td>521.66</td>\n",
       "      <td>90,183,900</td>\n",
       "      <td>521.66</td>\n",
       "    </tr>\n",
       "    <tr>\n",
       "      <th>4</th>\n",
       "      <td>Feb 01, 2021</td>\n",
       "      <td>536.79</td>\n",
       "      <td>566.65</td>\n",
       "      <td>518.28</td>\n",
       "      <td>538.85</td>\n",
       "      <td>61,902,300</td>\n",
       "      <td>538.85</td>\n",
       "    </tr>\n",
       "  </tbody>\n",
       "</table>\n",
       "</div>"
      ],
      "text/plain": [
       "           Date    Open    High     Low   Close       Volume Adj Close\n",
       "0  Jun 01, 2021  504.01  536.13  482.14  528.21   78,560,600    528.21\n",
       "1  May 01, 2021  512.65  518.95  478.54  502.81   66,927,600    502.81\n",
       "2  Apr 01, 2021  529.93  563.56  499.00  513.47  111,573,300    513.47\n",
       "3  Mar 01, 2021  545.57  556.99  492.85  521.66   90,183,900    521.66\n",
       "4  Feb 01, 2021  536.79  566.65  518.28  538.85   61,902,300    538.85"
      ]
     },
     "execution_count": 46,
     "metadata": {},
     "output_type": "execute_result"
    }
   ],
   "source": [
    "netflix_data.head()"
   ]
  },
  {
   "cell_type": "markdown",
   "id": "1fc32ae1-d931-4989-b823-52717b12252e",
   "metadata": {
    "tags": []
   },
   "source": [
    "### 5.a Another way \n",
    "We also could have gone about this a simpler way, using a function provided by pandas to extact tables from HTML."
   ]
  },
  {
   "cell_type": "code",
   "execution_count": 50,
   "id": "0d7a5c0d-3b09-40b8-a76a-9af9696565d0",
   "metadata": {
    "tags": []
   },
   "outputs": [],
   "source": [
    "read_html__pandas_data = pd.read_html(url)"
   ]
  },
  {
   "cell_type": "markdown",
   "id": "7f451eb2-24d5-41af-b8c8-742bd733fdec",
   "metadata": {},
   "source": [
    "Since there is only one table on the page, we can just take the first table that is returned."
   ]
  },
  {
   "cell_type": "code",
   "execution_count": 52,
   "id": "0b64c0a2-c6d6-42e3-a4eb-e847e2f301b0",
   "metadata": {
    "tags": []
   },
   "outputs": [
    {
     "data": {
      "text/html": [
       "<div>\n",
       "<style scoped>\n",
       "    .dataframe tbody tr th:only-of-type {\n",
       "        vertical-align: middle;\n",
       "    }\n",
       "\n",
       "    .dataframe tbody tr th {\n",
       "        vertical-align: top;\n",
       "    }\n",
       "\n",
       "    .dataframe thead th {\n",
       "        text-align: right;\n",
       "    }\n",
       "</style>\n",
       "<table border=\"1\" class=\"dataframe\">\n",
       "  <thead>\n",
       "    <tr style=\"text-align: right;\">\n",
       "      <th></th>\n",
       "      <th>Date</th>\n",
       "      <th>Open</th>\n",
       "      <th>High</th>\n",
       "      <th>Low</th>\n",
       "      <th>Close*</th>\n",
       "      <th>Adj Close**</th>\n",
       "      <th>Volume</th>\n",
       "    </tr>\n",
       "  </thead>\n",
       "  <tbody>\n",
       "    <tr>\n",
       "      <th>0</th>\n",
       "      <td>Jun 01, 2021</td>\n",
       "      <td>504.01</td>\n",
       "      <td>536.13</td>\n",
       "      <td>482.14</td>\n",
       "      <td>528.21</td>\n",
       "      <td>528.21</td>\n",
       "      <td>78560600</td>\n",
       "    </tr>\n",
       "    <tr>\n",
       "      <th>1</th>\n",
       "      <td>May 01, 2021</td>\n",
       "      <td>512.65</td>\n",
       "      <td>518.95</td>\n",
       "      <td>478.54</td>\n",
       "      <td>502.81</td>\n",
       "      <td>502.81</td>\n",
       "      <td>66927600</td>\n",
       "    </tr>\n",
       "    <tr>\n",
       "      <th>2</th>\n",
       "      <td>Apr 01, 2021</td>\n",
       "      <td>529.93</td>\n",
       "      <td>563.56</td>\n",
       "      <td>499.00</td>\n",
       "      <td>513.47</td>\n",
       "      <td>513.47</td>\n",
       "      <td>111573300</td>\n",
       "    </tr>\n",
       "    <tr>\n",
       "      <th>3</th>\n",
       "      <td>Mar 01, 2021</td>\n",
       "      <td>545.57</td>\n",
       "      <td>556.99</td>\n",
       "      <td>492.85</td>\n",
       "      <td>521.66</td>\n",
       "      <td>521.66</td>\n",
       "      <td>90183900</td>\n",
       "    </tr>\n",
       "    <tr>\n",
       "      <th>4</th>\n",
       "      <td>Feb 01, 2021</td>\n",
       "      <td>536.79</td>\n",
       "      <td>566.65</td>\n",
       "      <td>518.28</td>\n",
       "      <td>538.85</td>\n",
       "      <td>538.85</td>\n",
       "      <td>61902300</td>\n",
       "    </tr>\n",
       "  </tbody>\n",
       "</table>\n",
       "</div>"
      ],
      "text/plain": [
       "           Date    Open    High     Low  Close* Adj Close**     Volume\n",
       "0  Jun 01, 2021  504.01  536.13  482.14  528.21      528.21   78560600\n",
       "1  May 01, 2021  512.65  518.95  478.54  502.81      502.81   66927600\n",
       "2  Apr 01, 2021  529.93  563.56  499.00  513.47      513.47  111573300\n",
       "3  Mar 01, 2021  545.57  556.99  492.85  521.66      521.66   90183900\n",
       "4  Feb 01, 2021  536.79  566.65  518.28  538.85      538.85   61902300"
      ]
     },
     "execution_count": 52,
     "metadata": {},
     "output_type": "execute_result"
    }
   ],
   "source": [
    "netflix_dataframe = read_html__pandas_data[0]\n",
    "netflix_dataframe.head()"
   ]
  },
  {
   "cell_type": "code",
   "execution_count": null,
   "id": "a5e4c076-edae-44be-9de5-453d230ac48b",
   "metadata": {},
   "outputs": [],
   "source": []
  }
 ],
 "metadata": {
  "kernelspec": {
   "display_name": "Python 3 (ipykernel)",
   "language": "python",
   "name": "python3"
  },
  "language_info": {
   "codemirror_mode": {
    "name": "ipython",
    "version": 3
   },
   "file_extension": ".py",
   "mimetype": "text/x-python",
   "name": "python",
   "nbconvert_exporter": "python",
   "pygments_lexer": "ipython3",
   "version": "3.11.3"
  }
 },
 "nbformat": 4,
 "nbformat_minor": 5
}
